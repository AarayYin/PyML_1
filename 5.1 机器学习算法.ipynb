{
 "cells": [
  {
   "cell_type": "code",
   "execution_count": 1,
   "id": "4ea499ba",
   "metadata": {},
   "outputs": [],
   "source": [
    "import numpy as np\n",
    "import matplotlib.pyplot as plt\n",
    "from sklearn.linear_model import LinearRegression"
   ]
  },
  {
   "cell_type": "code",
   "execution_count": 5,
   "id": "b38adfd1",
   "metadata": {},
   "outputs": [
    {
     "data": {
      "text/plain": [
       "<matplotlib.collections.PathCollection at 0x235d8294bb0>"
      ]
     },
     "execution_count": 5,
     "metadata": {},
     "output_type": "execute_result"
    },
    {
     "data": {
      "image/png": "[encoded data removed]",
      "text/plain": [
       "<Figure size 432x288 with 1 Axes>"
      ]
     },
     "metadata": {
      "needs_background": "light"
     },
     "output_type": "display_data"
    }
   ],
   "source": [
    "x_val = np.random.uniform(low = 0, high = 30, size = 10)\n",
    "y_val = x_val + 3 * np.random.normal(size=len(x_val))\n",
    "plt.scatter(x_val, y_val, c='black')"
   ]
  },
  {
   "cell_type": "code",
   "execution_count": 12,
   "id": "a2f06191",
   "metadata": {},
   "outputs": [
    {
     "data": {
      "text/plain": [
       "[<matplotlib.lines.Line2D at 0x235d94e8040>]"
      ]
     },
     "execution_count": 12,
     "metadata": {},
     "output_type": "execute_result"
    },
    {
     "data": {
      "image/png": "[encoded data removed]",
      "text/plain": [
       "<Figure size 432x288 with 1 Axes>"
      ]
     },
     "metadata": {
      "needs_background": "light"
     },
     "output_type": "display_data"
    }
   ],
   "source": [
    "plt.scatter(x_val, y_val, c='black')\n",
    "\n",
    "lr = LinearRegression()\n",
    "lr.fit(x_val.reshape(-1,1), y_val)\n",
    "\n",
    "x_lf = np.linspace(0, 30, 50)\n",
    "y_lf = lr.predict(x_lf.reshape(-1,1))\n",
    "plt.plot(x_lf, y_lf, 'b--')"
   ]
  },
  {
   "cell_type": "code",
   "execution_count": 10,
   "id": "9e6500b3",
   "metadata": {},
   "outputs": [
    {
     "name": "stdout",
     "output_type": "stream",
     "text": [
      "[ 0.   7.5 15.  22.5 30. ]\n"
     ]
    },
    {
     "data": {
      "text/plain": [
       "array([[ 0. ],\n",
       "       [ 7.5],\n",
       "       [15. ],\n",
       "       [22.5],\n",
       "       [30. ]])"
      ]
     },
     "execution_count": 10,
     "metadata": {},
     "output_type": "execute_result"
    }
   ],
   "source": [
    "x = np.linspace(0, 30, 5)\n",
    "print(x)\n",
    "x.reshape(-1,1)"
   ]
  },
  {
   "cell_type": "code",
   "execution_count": 14,
   "id": "a884f424",
   "metadata": {},
   "outputs": [
    {
     "name": "stdout",
     "output_type": "stream",
     "text": [
      "coef =  [1.06299225] intercept =  -1.118126746241602\n",
      "coef = 1.06 intercept = -1.12\n"
     ]
    }
   ],
   "source": [
    "coef = lr.coef_\n",
    "intercept = lr.intercept_\n",
    "\n",
    "print('coef = ', coef, 'intercept = ', intercept)\n",
    "print('coef = %.2f'%coef[0], 'intercept = %.2f'%intercept)"
   ]
  },
  {
   "cell_type": "code",
   "execution_count": null,
   "id": "37e37dfa",
   "metadata": {},
   "outputs": [],
   "source": []
  }
 ],
 "metadata": {
  "kernelspec": {
   "display_name": "Python 3",
   "language": "python",
   "name": "python3"
  },
  "language_info": {
   "codemirror_mode": {
    "name": "ipython",
    "version": 3
   },
   "file_extension": ".py",
   "mimetype": "text/x-python",
   "name": "python",
   "nbconvert_exporter": "python",
   "pygments_lexer": "ipython3",
   "version": "3.8.8"
  }
 },
 "nbformat": 4,
 "nbformat_minor": 5
}
