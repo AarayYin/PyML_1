{
 "cells": [
  {
   "cell_type": "code",
   "execution_count": 1,
   "id": "c14fe03f",
   "metadata": {},
   "outputs": [],
   "source": [
    "import numpy as np\n",
    "from sklearn import linear_model\n",
    "from pandas import read_csv"
   ]
  },
  {
   "cell_type": "code",
   "execution_count": 2,
   "id": "da1805ad",
   "metadata": {},
   "outputs": [
    {
     "data": {
      "text/html": [
       "<div>\n",
       "<style scoped>\n",
       "    .dataframe tbody tr th:only-of-type {\n",
       "        vertical-align: middle;\n",
       "    }\n",
       "\n",
       "    .dataframe tbody tr th {\n",
       "        vertical-align: top;\n",
       "    }\n",
       "\n",
       "    .dataframe thead th {\n",
       "        text-align: right;\n",
       "    }\n",
       "</style>\n",
       "<table border=\"1\" class=\"dataframe\">\n",
       "  <thead>\n",
       "    <tr style=\"text-align: right;\">\n",
       "      <th></th>\n",
       "      <th>formula</th>\n",
       "      <th>db_center</th>\n",
       "      <th>ad_energy</th>\n",
       "    </tr>\n",
       "  </thead>\n",
       "  <tbody>\n",
       "    <tr>\n",
       "      <th>0</th>\n",
       "      <td>Cu12Co</td>\n",
       "      <td>-1.33</td>\n",
       "      <td>-0.547</td>\n",
       "    </tr>\n",
       "    <tr>\n",
       "      <th>1</th>\n",
       "      <td>Cu12Rh</td>\n",
       "      <td>-1.57</td>\n",
       "      <td>-0.591</td>\n",
       "    </tr>\n",
       "    <tr>\n",
       "      <th>2</th>\n",
       "      <td>Cu12Ir</td>\n",
       "      <td>-1.74</td>\n",
       "      <td>-0.420</td>\n",
       "    </tr>\n",
       "    <tr>\n",
       "      <th>3</th>\n",
       "      <td>Cu12Ni</td>\n",
       "      <td>-1.21</td>\n",
       "      <td>-0.674</td>\n",
       "    </tr>\n",
       "    <tr>\n",
       "      <th>4</th>\n",
       "      <td>Cu12Pd</td>\n",
       "      <td>-2.01</td>\n",
       "      <td>-0.500</td>\n",
       "    </tr>\n",
       "    <tr>\n",
       "      <th>5</th>\n",
       "      <td>Cu12Pt</td>\n",
       "      <td>-1.78</td>\n",
       "      <td>-0.391</td>\n",
       "    </tr>\n",
       "    <tr>\n",
       "      <th>6</th>\n",
       "      <td>Cu13</td>\n",
       "      <td>-2.33</td>\n",
       "      <td>-0.316</td>\n",
       "    </tr>\n",
       "    <tr>\n",
       "      <th>7</th>\n",
       "      <td>Cu12Ag</td>\n",
       "      <td>-4.13</td>\n",
       "      <td>-0.201</td>\n",
       "    </tr>\n",
       "    <tr>\n",
       "      <th>8</th>\n",
       "      <td>Cu12Au</td>\n",
       "      <td>-3.12</td>\n",
       "      <td>-0.298</td>\n",
       "    </tr>\n",
       "  </tbody>\n",
       "</table>\n",
       "</div>"
      ],
      "text/plain": [
       "  formula  db_center  ad_energy\n",
       "0  Cu12Co      -1.33     -0.547\n",
       "1  Cu12Rh      -1.57     -0.591\n",
       "2  Cu12Ir      -1.74     -0.420\n",
       "3  Cu12Ni      -1.21     -0.674\n",
       "4  Cu12Pd      -2.01     -0.500\n",
       "5  Cu12Pt      -1.78     -0.391\n",
       "6    Cu13      -2.33     -0.316\n",
       "7  Cu12Ag      -4.13     -0.201\n",
       "8  Cu12Au      -3.12     -0.298"
      ]
     },
     "execution_count": 2,
     "metadata": {},
     "output_type": "execute_result"
    }
   ],
   "source": [
    "f = open('db_center.csv', encoding = 'UTF-8')\n",
    "names = ['formula', 'db_center', 'ad_energy']\n",
    "data = read_csv(f, names = names)\n",
    "data"
   ]
  },
  {
   "cell_type": "code",
   "execution_count": 3,
   "id": "3eb63b53",
   "metadata": {},
   "outputs": [],
   "source": [
    "f.close()"
   ]
  },
  {
   "cell_type": "code",
   "execution_count": 4,
   "id": "b31d6f0f",
   "metadata": {},
   "outputs": [
    {
     "data": {
      "text/html": [
       "<div>\n",
       "<style scoped>\n",
       "    .dataframe tbody tr th:only-of-type {\n",
       "        vertical-align: middle;\n",
       "    }\n",
       "\n",
       "    .dataframe tbody tr th {\n",
       "        vertical-align: top;\n",
       "    }\n",
       "\n",
       "    .dataframe thead th {\n",
       "        text-align: right;\n",
       "    }\n",
       "</style>\n",
       "<table border=\"1\" class=\"dataframe\">\n",
       "  <thead>\n",
       "    <tr style=\"text-align: right;\">\n",
       "      <th></th>\n",
       "      <th>formula</th>\n",
       "      <th>db_center</th>\n",
       "      <th>ad_energy</th>\n",
       "    </tr>\n",
       "  </thead>\n",
       "  <tbody>\n",
       "    <tr>\n",
       "      <th>0</th>\n",
       "      <td>Cu12Co</td>\n",
       "      <td>-1.33</td>\n",
       "      <td>-0.547</td>\n",
       "    </tr>\n",
       "    <tr>\n",
       "      <th>1</th>\n",
       "      <td>Cu12Rh</td>\n",
       "      <td>-1.57</td>\n",
       "      <td>-0.591</td>\n",
       "    </tr>\n",
       "    <tr>\n",
       "      <th>2</th>\n",
       "      <td>Cu12Ir</td>\n",
       "      <td>-1.74</td>\n",
       "      <td>-0.420</td>\n",
       "    </tr>\n",
       "    <tr>\n",
       "      <th>3</th>\n",
       "      <td>Cu12Ni</td>\n",
       "      <td>-1.21</td>\n",
       "      <td>-0.674</td>\n",
       "    </tr>\n",
       "    <tr>\n",
       "      <th>4</th>\n",
       "      <td>Cu12Pd</td>\n",
       "      <td>-2.01</td>\n",
       "      <td>-0.500</td>\n",
       "    </tr>\n",
       "  </tbody>\n",
       "</table>\n",
       "</div>"
      ],
      "text/plain": [
       "  formula  db_center  ad_energy\n",
       "0  Cu12Co      -1.33     -0.547\n",
       "1  Cu12Rh      -1.57     -0.591\n",
       "2  Cu12Ir      -1.74     -0.420\n",
       "3  Cu12Ni      -1.21     -0.674\n",
       "4  Cu12Pd      -2.01     -0.500"
      ]
     },
     "execution_count": 4,
     "metadata": {},
     "output_type": "execute_result"
    }
   ],
   "source": [
    "data.head()"
   ]
  },
  {
   "cell_type": "code",
   "execution_count": 5,
   "id": "a342608b",
   "metadata": {},
   "outputs": [
    {
     "data": {
      "text/plain": [
       "array([-0.547, -0.591, -0.42 , -0.674, -0.5  , -0.391, -0.316, -0.201,\n",
       "       -0.298])"
      ]
     },
     "execution_count": 5,
     "metadata": {},
     "output_type": "execute_result"
    }
   ],
   "source": [
    "y = data['ad_energy'].values\n",
    "y"
   ]
  },
  {
   "cell_type": "code",
   "execution_count": 6,
   "id": "3ae54d7c",
   "metadata": {},
   "outputs": [
    {
     "name": "stdout",
     "output_type": "stream",
     "text": [
      "   db_center\n",
      "0      -1.33\n",
      "1      -1.57\n",
      "2      -1.74\n",
      "3      -1.21\n",
      "4      -2.01\n",
      "5      -1.78\n",
      "6      -2.33\n",
      "7      -4.13\n",
      "8      -3.12\n"
     ]
    }
   ],
   "source": [
    "excluded = ['formula', 'ad_energy']\n",
    "X = data.drop(excluded, axis = 1)\n",
    "print(X)"
   ]
  },
  {
   "cell_type": "code",
   "execution_count": 7,
   "id": "1146529f",
   "metadata": {},
   "outputs": [
    {
     "data": {
      "text/plain": [
       "LinearRegression()"
      ]
     },
     "execution_count": 7,
     "metadata": {},
     "output_type": "execute_result"
    }
   ],
   "source": [
    "from sklearn.linear_model import LinearRegression\n",
    "#from sklearn.metrics import mean_squared_error\n",
    "\n",
    "lr = LinearRegression()\n",
    "lr.fit(X,y)"
   ]
  },
  {
   "cell_type": "code",
   "execution_count": 8,
   "id": "22883e64",
   "metadata": {},
   "outputs": [
    {
     "name": "stdout",
     "output_type": "stream",
     "text": [
      "[-0.42839089]\n"
     ]
    },
    {
     "name": "stderr",
     "output_type": "stream",
     "text": [
      "C:\\ProgramData\\Anaconda3\\lib\\site-packages\\sklearn\\base.py:441: UserWarning: X does not have valid feature names, but LinearRegression was fitted with feature names\n",
      "  warnings.warn(\n"
     ]
    }
   ],
   "source": [
    "predicts = lr.predict([[-2.2]])\n",
    "print(predicts)"
   ]
  },
  {
   "cell_type": "code",
   "execution_count": 9,
   "id": "05663398",
   "metadata": {},
   "outputs": [
    {
     "name": "stdout",
     "output_type": "stream",
     "text": [
      "R2=0.7646612597264624\n"
     ]
    }
   ],
   "source": [
    "R2 = lr.score(X,y)\n",
    "print('R2='+str(R2))"
   ]
  },
  {
   "cell_type": "code",
   "execution_count": 10,
   "id": "a8201419",
   "metadata": {},
   "outputs": [
    {
     "name": "stdout",
     "output_type": "stream",
     "text": [
      "[-0.14221031]\n",
      "-0.7412535628655474\n"
     ]
    }
   ],
   "source": [
    "coef = lr.coef_\n",
    "intercept = lr.intercept_\n",
    "print(coef)\n",
    "print(intercept)"
   ]
  },
  {
   "cell_type": "code",
   "execution_count": 27,
   "id": "03f0fa7d",
   "metadata": {},
   "outputs": [
    {
     "data": {
      "image/png": "[encoded data removed]",
      "text/plain": [
       "<Figure size 432x288 with 1 Axes>"
      ]
     },
     "metadata": {
      "needs_background": "light"
     },
     "output_type": "display_data"
    }
   ],
   "source": [
    "import matplotlib.pyplot as plt\n",
    "\n",
    "plt.rcParams['font.sans-serif'] = ['SimHei']\n",
    "plt.rcParams['axes.unicode_minus'] = False\n",
    "\n",
    "y = data.iloc[:,2]\n",
    "x = data.iloc[:,1]\n",
    "plt.scatter(x, y, label='实际值')\n",
    "plt.plot(x, lr.predict(X), color = 'red', label = '预测值')\n",
    "plt.legend()\n",
    "plt.show()"
   ]
  },
  {
   "cell_type": "code",
   "execution_count": 26,
   "id": "f19e8372",
   "metadata": {},
   "outputs": [
    {
     "data": {
      "image/png": "[encoded data removed]",
      "text/plain": [
       "<Figure size 432x288 with 1 Axes>"
      ]
     },
     "metadata": {
      "needs_background": "light"
     },
     "output_type": "display_data"
    }
   ],
   "source": [
    "import matplotlib.pyplot as plt\n",
    "\n",
    "plt.rcParams['font.sans-serif'] = ['SimHei']\n",
    "plt.rcParams['axes.unicode_minus'] = False\n",
    "\n",
    "y = data.iloc[:,2]\n",
    "x = data.iloc[:,1]\n",
    "plt.scatter(x, y, label='实际值')\n",
    "plt.plot(x, lr.predict(x.to_frame()), color = 'red', label = '预测值')\n",
    "plt.legend()\n",
    "plt.show()"
   ]
  },
  {
   "cell_type": "code",
   "execution_count": 23,
   "id": "1099ae98",
   "metadata": {},
   "outputs": [
    {
     "name": "stderr",
     "output_type": "stream",
     "text": [
      "C:\\ProgramData\\Anaconda3\\lib\\site-packages\\sklearn\\base.py:441: UserWarning: X does not have valid feature names, but LinearRegression was fitted with feature names\n",
      "  warnings.warn(\n"
     ]
    },
    {
     "data": {
      "image/png": "[encoded data removed]",
      "text/plain": [
       "<Figure size 432x288 with 1 Axes>"
      ]
     },
     "metadata": {
      "needs_background": "light"
     },
     "output_type": "display_data"
    }
   ],
   "source": [
    "import matplotlib.pyplot as plt\n",
    "\n",
    "plt.rcParams['font.sans-serif'] = ['SimHei']\n",
    "plt.rcParams['axes.unicode_minus'] = False\n",
    "\n",
    "y = data.iloc[:,2]\n",
    "x = data.iloc[:,1]\n",
    "plt.scatter(x, y, label='实际值')\n",
    "x = np.array(x)\n",
    "plt.plot(x, lr.predict(x.reshape(-1,1)), color = 'red', label = '预测值')\n",
    "plt.legend()\n",
    "plt.show()"
   ]
  },
  {
   "cell_type": "code",
   "execution_count": null,
   "id": "17ca6933",
   "metadata": {},
   "outputs": [],
   "source": []
  }
 ],
 "metadata": {
  "kernelspec": {
   "display_name": "Python 3",
   "language": "python",
   "name": "python3"
  },
  "language_info": {
   "codemirror_mode": {
    "name": "ipython",
    "version": 3
   },
   "file_extension": ".py",
   "mimetype": "text/x-python",
   "name": "python",
   "nbconvert_exporter": "python",
   "pygments_lexer": "ipython3",
   "version": "3.8.8"
  }
 },
 "nbformat": 4,
 "nbformat_minor": 5
}
