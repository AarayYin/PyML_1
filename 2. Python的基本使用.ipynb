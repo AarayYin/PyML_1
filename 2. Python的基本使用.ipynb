{
 "cells": [
  {
   "cell_type": "code",
   "execution_count": 1,
   "id": "c6b01711",
   "metadata": {},
   "outputs": [
    {
     "data": {
      "text/plain": [
       "(1, 2, 3, 4, 5)"
      ]
     },
     "execution_count": 1,
     "metadata": {},
     "output_type": "execute_result"
    }
   ],
   "source": [
    "tup1 = (1, 2, 3, 4, 5)\n",
    "tup1"
   ]
  },
  {
   "cell_type": "code",
   "execution_count": 2,
   "id": "1b22bd53",
   "metadata": {},
   "outputs": [
    {
     "data": {
      "text/plain": [
       "tuple"
      ]
     },
     "execution_count": 2,
     "metadata": {},
     "output_type": "execute_result"
    }
   ],
   "source": [
    "tup1 = (1,)\n",
    "type(tup1)"
   ]
  },
  {
   "cell_type": "code",
   "execution_count": 3,
   "id": "68abe2d5",
   "metadata": {},
   "outputs": [
    {
     "data": {
      "text/plain": [
       "('x', 3)"
      ]
     },
     "execution_count": 3,
     "metadata": {},
     "output_type": "execute_result"
    }
   ],
   "source": [
    "tup2 = 'x', 3\n",
    "tup2"
   ]
  },
  {
   "cell_type": "code",
   "execution_count": 4,
   "id": "8aeafea3",
   "metadata": {},
   "outputs": [
    {
     "name": "stdout",
     "output_type": "stream",
     "text": [
      "oe\n"
     ]
    }
   ],
   "source": [
    "s = 'molecule'\n",
    "print(s[1:5:2])"
   ]
  },
  {
   "cell_type": "code",
   "execution_count": 5,
   "id": "2f689de8",
   "metadata": {},
   "outputs": [
    {
     "data": {
      "text/plain": [
       "['m', 'o', 'l', 'e', 'c', 'u', 'l', 'e']"
      ]
     },
     "execution_count": 5,
     "metadata": {},
     "output_type": "execute_result"
    }
   ],
   "source": [
    "list(s)"
   ]
  },
  {
   "cell_type": "code",
   "execution_count": 6,
   "id": "a68e68eb",
   "metadata": {},
   "outputs": [
    {
     "name": "stdout",
     "output_type": "stream",
     "text": [
      "new is  ['H', '2', 'S'] and old is  ['H', '2', 'S']\n"
     ]
    }
   ],
   "source": [
    "old = list('H2O')\n",
    "new = old\n",
    "new[2] = 'S'\n",
    "print('new is ', new, 'and old is ', old)"
   ]
  },
  {
   "cell_type": "code",
   "execution_count": 7,
   "id": "3810d89a",
   "metadata": {},
   "outputs": [
    {
     "name": "stdout",
     "output_type": "stream",
     "text": [
      "new is  ['H', '2', 'S'] and old is  ['H', '2', 'O']\n"
     ]
    }
   ],
   "source": [
    "old = list('H2O')\n",
    "new = old[:]\n",
    "new[2] = 'S'\n",
    "print('new is ', new, 'and old is ', old)"
   ]
  },
  {
   "cell_type": "code",
   "execution_count": 8,
   "id": "7167d7b6",
   "metadata": {},
   "outputs": [
    {
     "name": "stdout",
     "output_type": "stream",
     "text": [
      "True\n",
      "False\n"
     ]
    }
   ],
   "source": [
    "mole1 = 'LiFePO4'\n",
    "mole2 = 'LiCoO2'\n",
    "\n",
    "print('Fe' in mole1)\n",
    "print('Fe' in mole2)"
   ]
  },
  {
   "cell_type": "code",
   "execution_count": 9,
   "id": "0badb98e",
   "metadata": {},
   "outputs": [
    {
     "name": "stdout",
     "output_type": "stream",
     "text": [
      "['L', 'i', 'F', 'e', 'P', 'O', '4']\n"
     ]
    }
   ],
   "source": [
    "l1 = list(mole1)\n",
    "print(l1)"
   ]
  },
  {
   "cell_type": "code",
   "execution_count": 10,
   "id": "2b79c502",
   "metadata": {},
   "outputs": [
    {
     "data": {
      "text/plain": [
       "'LiFePO4'"
      ]
     },
     "execution_count": 10,
     "metadata": {},
     "output_type": "execute_result"
    }
   ],
   "source": [
    "s = ''.join(l1)\n",
    "s"
   ]
  },
  {
   "cell_type": "code",
   "execution_count": 11,
   "id": "4060e89c",
   "metadata": {},
   "outputs": [
    {
     "data": {
      "text/plain": [
       "{'a', 'c', 'd', 'n', 'o'}"
      ]
     },
     "execution_count": 11,
     "metadata": {},
     "output_type": "execute_result"
    }
   ],
   "source": [
    "set1 = set('anaconda')\n",
    "set1"
   ]
  },
  {
   "cell_type": "code",
   "execution_count": 12,
   "id": "c2cbe32b",
   "metadata": {},
   "outputs": [
    {
     "data": {
      "text/plain": [
       "{'h', 'n', 'o', 'p', 't', 'y'}"
      ]
     },
     "execution_count": 12,
     "metadata": {},
     "output_type": "execute_result"
    }
   ],
   "source": [
    "set2 = set('python')\n",
    "set2"
   ]
  },
  {
   "cell_type": "code",
   "execution_count": 13,
   "id": "68b2a3e0",
   "metadata": {},
   "outputs": [
    {
     "data": {
      "text/plain": [
       "{'n', 'o'}"
      ]
     },
     "execution_count": 13,
     "metadata": {},
     "output_type": "execute_result"
    }
   ],
   "source": [
    "set1 & set2"
   ]
  },
  {
   "cell_type": "code",
   "execution_count": 14,
   "id": "212d292c",
   "metadata": {},
   "outputs": [],
   "source": [
    "dict1 = {'H' : 1, 'O' : 16, 'Na': 23}"
   ]
  },
  {
   "cell_type": "code",
   "execution_count": 15,
   "id": "285c99fb",
   "metadata": {},
   "outputs": [
    {
     "data": {
      "text/plain": [
       "40"
      ]
     },
     "execution_count": 15,
     "metadata": {},
     "output_type": "execute_result"
    }
   ],
   "source": [
    "mass = dict1['Na'] + dict1['O'] + dict1['H']\n",
    "mass"
   ]
  },
  {
   "cell_type": "code",
   "execution_count": 16,
   "id": "bf232819",
   "metadata": {},
   "outputs": [
    {
     "data": {
      "text/plain": [
       "{12: 'C', 14: 'C14'}"
      ]
     },
     "execution_count": 16,
     "metadata": {},
     "output_type": "execute_result"
    }
   ],
   "source": [
    "dict2 ={}\n",
    "dict2[12] = 'C'    # key 12, value 'C'\n",
    "dict2[14] = 'N'\n",
    "dict2[14.0] = 'C14'\n",
    "dict2"
   ]
  },
  {
   "cell_type": "code",
   "execution_count": 17,
   "id": "b7c8fdc9",
   "metadata": {},
   "outputs": [],
   "source": [
    "import pandas as pd"
   ]
  },
  {
   "cell_type": "code",
   "execution_count": 18,
   "id": "4e9bb47c",
   "metadata": {},
   "outputs": [
    {
     "name": "stdout",
     "output_type": "stream",
     "text": [
      "0     50\n",
      "1     50\n",
      "2    100\n",
      "dtype: int64\n"
     ]
    }
   ],
   "source": [
    "s = pd.Series([50, 50, 100])\n",
    "print(s)"
   ]
  },
  {
   "cell_type": "code",
   "execution_count": 19,
   "id": "06476e47",
   "metadata": {},
   "outputs": [
    {
     "name": "stdout",
     "output_type": "stream",
     "text": [
      "Red        50\n",
      "Purple     50\n",
      "Blue      100\n",
      "dtype: int64\n"
     ]
    }
   ],
   "source": [
    "s.index = ['Red','Purple', 'Blue']\n",
    "print(s)"
   ]
  },
  {
   "cell_type": "code",
   "execution_count": 20,
   "id": "6cb0a4b1",
   "metadata": {},
   "outputs": [
    {
     "data": {
      "text/html": [
       "<div>\n",
       "<style scoped>\n",
       "    .dataframe tbody tr th:only-of-type {\n",
       "        vertical-align: middle;\n",
       "    }\n",
       "\n",
       "    .dataframe tbody tr th {\n",
       "        vertical-align: top;\n",
       "    }\n",
       "\n",
       "    .dataframe thead th {\n",
       "        text-align: right;\n",
       "    }\n",
       "</style>\n",
       "<table border=\"1\" class=\"dataframe\">\n",
       "  <thead>\n",
       "    <tr style=\"text-align: right;\">\n",
       "      <th></th>\n",
       "      <th>name</th>\n",
       "      <th>score1</th>\n",
       "      <th>score2</th>\n",
       "    </tr>\n",
       "  </thead>\n",
       "  <tbody>\n",
       "    <tr>\n",
       "      <th>0</th>\n",
       "      <td>red</td>\n",
       "      <td>50</td>\n",
       "      <td>60</td>\n",
       "    </tr>\n",
       "    <tr>\n",
       "      <th>1</th>\n",
       "      <td>purple</td>\n",
       "      <td>60</td>\n",
       "      <td>50</td>\n",
       "    </tr>\n",
       "    <tr>\n",
       "      <th>2</th>\n",
       "      <td>blue</td>\n",
       "      <td>100</td>\n",
       "      <td>100</td>\n",
       "    </tr>\n",
       "  </tbody>\n",
       "</table>\n",
       "</div>"
      ],
      "text/plain": [
       "     name  score1  score2\n",
       "0     red      50      60\n",
       "1  purple      60      50\n",
       "2    blue     100     100"
      ]
     },
     "execution_count": 20,
     "metadata": {},
     "output_type": "execute_result"
    }
   ],
   "source": [
    "data = [['red', 50, 60], ['purple', 60, 50], ['blue', 100, 100]]\n",
    "df = pd.DataFrame(data, columns = ['name', 'score1', 'score2'])\n",
    "df"
   ]
  },
  {
   "cell_type": "code",
   "execution_count": 21,
   "id": "5aefcbfe",
   "metadata": {},
   "outputs": [
    {
     "name": "stdout",
     "output_type": "stream",
     "text": [
      "a is positive\n"
     ]
    }
   ],
   "source": [
    "a = 5\n",
    "if(a > 0):\n",
    "    print('a is positive')"
   ]
  },
  {
   "cell_type": "code",
   "execution_count": 22,
   "id": "cfe01e36",
   "metadata": {},
   "outputs": [
    {
     "name": "stdout",
     "output_type": "stream",
     "text": [
      "liquid\n",
      "abc\n"
     ]
    }
   ],
   "source": [
    "temp = 25\n",
    "if(temp > 100):\n",
    "    print('gas')\n",
    "elif(temp>0):\n",
    "    print('liquid')\n",
    "else:\n",
    "    print('solid')\n",
    "print('abc')"
   ]
  },
  {
   "cell_type": "code",
   "execution_count": 23,
   "id": "0b156b6b",
   "metadata": {},
   "outputs": [
    {
     "name": "stdout",
     "output_type": "stream",
     "text": [
      "a= 1\n",
      "a= 2\n",
      "a= 3\n",
      "a= 4\n",
      "a= 5\n",
      "a= 6\n",
      "a= 7\n",
      "a= 8\n",
      "a= 9\n"
     ]
    }
   ],
   "source": [
    "a = 1\n",
    "while(a < 10):\n",
    "    print('a=',a)\n",
    "    a+=1"
   ]
  },
  {
   "cell_type": "code",
   "execution_count": 24,
   "id": "89b1ee73",
   "metadata": {},
   "outputs": [
    {
     "name": "stdout",
     "output_type": "stream",
     "text": [
      "a= 3\n",
      "a= 6\n",
      "a= 9\n",
      "a= 12\n",
      "a= 15\n",
      "a= 18\n",
      "a is larger than 20\n"
     ]
    }
   ],
   "source": [
    "a = 1\n",
    "while(a < 20):\n",
    "    if(a % 3 == 0):\n",
    "        print('a=',a)\n",
    "    a+=1\n",
    "else:\n",
    "    print('a is larger than 20')"
   ]
  },
  {
   "cell_type": "code",
   "execution_count": 25,
   "id": "d31662c5",
   "metadata": {},
   "outputs": [
    {
     "name": "stdout",
     "output_type": "stream",
     "text": [
      "a= 1\n",
      "a= 2\n",
      "a= 3\n",
      "a= 4\n",
      "a= 5\n",
      "a= 6\n",
      "a= 7\n",
      "a= 8\n",
      "a= 9\n"
     ]
    }
   ],
   "source": [
    "a = 1\n",
    "while(a < 10):\n",
    "    print('a=',a)\n",
    "    a += 1"
   ]
  },
  {
   "cell_type": "markdown",
   "id": "fe3c6860",
   "metadata": {},
   "source": [
    "1, 1, 2, 3, 5, 8, 13, 21, ..."
   ]
  },
  {
   "cell_type": "code",
   "execution_count": 26,
   "id": "cfbf0fd4",
   "metadata": {},
   "outputs": [
    {
     "name": "stdout",
     "output_type": "stream",
     "text": [
      "1 1 2 3 5 8 13 21 34 55 89 "
     ]
    }
   ],
   "source": [
    "a = 1\n",
    "b = 1\n",
    "while a < 100:\n",
    "    print(a, end = ' ')\n",
    "    a, b = b, a + b"
   ]
  },
  {
   "cell_type": "code",
   "execution_count": 27,
   "id": "b0b098a8",
   "metadata": {},
   "outputs": [
    {
     "name": "stdout",
     "output_type": "stream",
     "text": [
      "['red', 'purple', 'blue']\n"
     ]
    }
   ],
   "source": [
    "a = ['red', 'purple', 'blue']\n",
    "while 'blue' in a:\n",
    "    print(a)\n",
    "    a.remove('blue')"
   ]
  },
  {
   "cell_type": "code",
   "execution_count": 28,
   "id": "8a73b25c",
   "metadata": {},
   "outputs": [
    {
     "name": "stdout",
     "output_type": "stream",
     "text": [
      "H\n",
      "C\n",
      "N\n"
     ]
    }
   ],
   "source": [
    "a = ['H', 'C', 'N']\n",
    "for b in a:\n",
    "    print(b)"
   ]
  },
  {
   "cell_type": "code",
   "execution_count": 29,
   "id": "eee85b8c",
   "metadata": {},
   "outputs": [
    {
     "name": "stdout",
     "output_type": "stream",
     "text": [
      "0 H\n",
      "1 C\n",
      "2 N\n"
     ]
    }
   ],
   "source": [
    "for i, ele in enumerate(a):\n",
    "    print(i, ele)"
   ]
  },
  {
   "cell_type": "code",
   "execution_count": 30,
   "id": "807eccdc",
   "metadata": {},
   "outputs": [
    {
     "data": {
      "text/plain": [
       "[0, 1, 2, 3, 4, 5, 6, 7, 8, 9]"
      ]
     },
     "execution_count": 30,
     "metadata": {},
     "output_type": "execute_result"
    }
   ],
   "source": [
    "a = list(range(10))\n",
    "a"
   ]
  },
  {
   "cell_type": "code",
   "execution_count": 31,
   "id": "d1e65b50",
   "metadata": {},
   "outputs": [
    {
     "name": "stdout",
     "output_type": "stream",
     "text": [
      "1 3 5 7 9 "
     ]
    }
   ],
   "source": [
    "for i in range(1, 10, 2):\n",
    "    print(i, end = ' ')"
   ]
  },
  {
   "cell_type": "code",
   "execution_count": 32,
   "id": "4c2a6c62",
   "metadata": {},
   "outputs": [
    {
     "name": "stdout",
     "output_type": "stream",
     "text": [
      "0 C\n",
      "1 H\n",
      "2 3\n"
     ]
    }
   ],
   "source": [
    "mole = 'CH3COOH'\n",
    "for i, j in enumerate(mole):\n",
    "    if i == 3:\n",
    "        break\n",
    "    print(i, j)"
   ]
  },
  {
   "cell_type": "code",
   "execution_count": 33,
   "id": "5e84eba7",
   "metadata": {},
   "outputs": [
    {
     "name": "stdout",
     "output_type": "stream",
     "text": [
      "0 C\n",
      "1 H\n",
      "2 3\n",
      "4 O\n",
      "5 O\n",
      "6 H\n"
     ]
    }
   ],
   "source": [
    "mole = 'CH3COOH'\n",
    "for i, j in enumerate(mole):\n",
    "    if i == 3:\n",
    "        continue\n",
    "    print(i, j)"
   ]
  },
  {
   "cell_type": "markdown",
   "id": "322fb313",
   "metadata": {},
   "source": [
    "zip()函数"
   ]
  },
  {
   "cell_type": "code",
   "execution_count": 34,
   "id": "ae1c80a9",
   "metadata": {},
   "outputs": [
    {
     "name": "stdout",
     "output_type": "stream",
     "text": [
      "C C\n",
      "H H\n",
      "3 3\n",
      "C C\n",
      "O H\n",
      "O 2\n",
      "H O\n"
     ]
    }
   ],
   "source": [
    "mole1 = 'CH3COOH'\n",
    "mole2 = 'CH3CH2OH'\n",
    "for i, j in zip(mole1, mole2):\n",
    "    print(i, j)"
   ]
  },
  {
   "cell_type": "code",
   "execution_count": 35,
   "id": "02b4bb82",
   "metadata": {},
   "outputs": [
    {
     "data": {
      "text/plain": [
       "{0: 'K', 1: 'C', 2: 'N'}"
      ]
     },
     "execution_count": 35,
     "metadata": {},
     "output_type": "execute_result"
    }
   ],
   "source": [
    "dict3 = {}\n",
    "s = 'KCN'\n",
    "for i, dict3[i] in enumerate(s):\n",
    "    pass\n",
    "dict3"
   ]
  },
  {
   "cell_type": "code",
   "execution_count": 36,
   "id": "5bc99e21",
   "metadata": {},
   "outputs": [
    {
     "name": "stdout",
     "output_type": "stream",
     "text": [
      "0\n",
      "1\n",
      "2\n",
      "3\n",
      "4\n"
     ]
    }
   ],
   "source": [
    "for i in range(5): # 0 1 2 3 4\n",
    "    print(i)\n",
    "    i = 10"
   ]
  },
  {
   "cell_type": "markdown",
   "id": "b7e8ec55",
   "metadata": {},
   "source": [
    "A. 0\n",
    "B.  0\n",
    "   1\n",
    "   2\n",
    "   3\n",
    "   4"
   ]
  },
  {
   "cell_type": "code",
   "execution_count": 37,
   "id": "7d5042de",
   "metadata": {},
   "outputs": [
    {
     "name": "stdout",
     "output_type": "stream",
     "text": [
      "liquid\n"
     ]
    }
   ],
   "source": [
    "temp = 25\n",
    "if(temp > 100):\n",
    "    print('gas')\n",
    "elif(temp>0):\n",
    "    print('liquid')\n",
    "else:\n",
    "    print('solid')"
   ]
  },
  {
   "cell_type": "code",
   "execution_count": 38,
   "id": "2193eb86",
   "metadata": {},
   "outputs": [
    {
     "name": "stdout",
     "output_type": "stream",
     "text": [
      "liquid\n",
      "solid\n"
     ]
    }
   ],
   "source": [
    "def phase(temp):\n",
    "    if(temp > 100):\n",
    "        print('gas')\n",
    "    elif(temp>0):\n",
    "        print('liquid')\n",
    "    else:\n",
    "        print('solid')\n",
    "\n",
    "phase(25)\n",
    "phase(-5)"
   ]
  },
  {
   "cell_type": "code",
   "execution_count": 39,
   "id": "a2a5b839",
   "metadata": {},
   "outputs": [
    {
     "name": "stdout",
     "output_type": "stream",
     "text": [
      "1\n",
      "1\n",
      "2\n",
      "1\n"
     ]
    }
   ],
   "source": [
    "def fun(a):\n",
    "    print(a)\n",
    "    a += 1\n",
    "    print(a)\n",
    "\n",
    "a = 1\n",
    "print(a)\n",
    "fun(a)\n",
    "print(a)"
   ]
  },
  {
   "cell_type": "code",
   "execution_count": 40,
   "id": "4c1a59c6",
   "metadata": {},
   "outputs": [
    {
     "name": "stdout",
     "output_type": "stream",
     "text": [
      "[525]\n",
      "[525, 'cm-1']\n"
     ]
    }
   ],
   "source": [
    "def fun(a):\n",
    "    a.append('cm-1')\n",
    "\n",
    "b = [525]\n",
    "print(b)\n",
    "fun(b)\n",
    "print(b)"
   ]
  },
  {
   "cell_type": "code",
   "execution_count": 41,
   "id": "cce04af5",
   "metadata": {},
   "outputs": [],
   "source": [
    "z_max = 3e-10\n",
    "z_min = 2.9e-10\n",
    "I_max = [2.27e-12, 2.24e-12, 2.30e-12, 2.25e-12, 2.22e-12, 2.25e-12, 2.24e-12]\n",
    "I_min = [2.81e-12, 2.84e-12, 2.99e-12, 2.58e-12, 2.61e-12, 2.80e-12, 2.50e-12]"
   ]
  },
  {
   "cell_type": "code",
   "execution_count": 42,
   "id": "95a25ef0",
   "metadata": {},
   "outputs": [],
   "source": [
    "def avg_list(I):\n",
    "    sum = 0\n",
    "    for current in I:\n",
    "        sum += current\n",
    "    return sum / len(I)"
   ]
  },
  {
   "cell_type": "code",
   "execution_count": 43,
   "id": "0df42442",
   "metadata": {},
   "outputs": [
    {
     "name": "stdout",
     "output_type": "stream",
     "text": [
      "2.253,2.733\n"
     ]
    }
   ],
   "source": [
    "I1 = avg_list(I_max)*1e12\n",
    "I2 = avg_list(I_min)*1e12\n",
    "\n",
    "print('%.3f,%.3f'%(I1, I2))"
   ]
  },
  {
   "cell_type": "code",
   "execution_count": 44,
   "id": "98716b88",
   "metadata": {},
   "outputs": [
    {
     "name": "stdout",
     "output_type": "stream",
     "text": [
      "3.1415926\n",
      "3.142\n"
     ]
    }
   ],
   "source": [
    "a = 3.1415926\n",
    "print(a)\n",
    "print('%.3f'%a)"
   ]
  },
  {
   "cell_type": "code",
   "execution_count": 45,
   "id": "4dca4847",
   "metadata": {},
   "outputs": [
    {
     "name": "stdout",
     "output_type": "stream",
     "text": [
      "3.0 2.9\n"
     ]
    }
   ],
   "source": [
    "z_max *= 1e10\n",
    "z_min *= 1e10\n",
    "print(z_max,z_min)"
   ]
  },
  {
   "cell_type": "code",
   "execution_count": 46,
   "id": "64646489",
   "metadata": {},
   "outputs": [],
   "source": [
    "dI = I1 - I2\n",
    "dz = z_max - z_min\n",
    "I_avg = 0.5 * (I1 + I2)"
   ]
  },
  {
   "cell_type": "code",
   "execution_count": 47,
   "id": "eefb41ec",
   "metadata": {},
   "outputs": [
    {
     "data": {
      "text/plain": [
       "8"
      ]
     },
     "execution_count": 47,
     "metadata": {},
     "output_type": "execute_result"
    }
   ],
   "source": [
    "a = pow(2, 3)\n",
    "a"
   ]
  },
  {
   "cell_type": "code",
   "execution_count": 48,
   "id": "33984ae9",
   "metadata": {},
   "outputs": [
    {
     "name": "stdout",
     "output_type": "stream",
     "text": [
      "3.530\n"
     ]
    }
   ],
   "source": [
    "WF = 0.952 * dI * dI / dz / dz / I_avg / I_avg\n",
    "print('%.3f'%WF)"
   ]
  },
  {
   "cell_type": "code",
   "execution_count": 50,
   "id": "aaa11f8d",
   "metadata": {},
   "outputs": [
    {
     "data": {
      "text/plain": [
       "3.529593090368709"
      ]
     },
     "execution_count": 50,
     "metadata": {},
     "output_type": "execute_result"
    }
   ],
   "source": [
    "def Cal_WF(z_max, z_min, I_max, I_min):\n",
    "    z_max *= 1e10\n",
    "    z_min *= 1e10\n",
    "    I1 = avg_list(I_max)*1e12\n",
    "    I2 = avg_list(I_min)*1e12\n",
    "    dI = I1 - I2\n",
    "    dz = z_max - z_min\n",
    "    I_avg = 0.5 * (I1 + I2)\n",
    "    return 0.952 * dI * dI / dz / dz / I_avg / I_avg\n",
    "\n",
    "z_max = 3e-10\n",
    "z_min = 2.9e-10\n",
    "I_max = [2.27e-12, 2.24e-12, 2.30e-12, 2.25e-12, 2.22e-12, 2.25e-12, 2.24e-12]\n",
    "I_min = [2.81e-12, 2.84e-12, 2.99e-12, 2.58e-12, 2.61e-12, 2.80e-12, 2.50e-12]\n",
    "\n",
    "Cal_WF(z_max, z_min, I_max, I_min)"
   ]
  },
  {
   "cell_type": "code",
   "execution_count": 55,
   "id": "e6554ec3",
   "metadata": {},
   "outputs": [
    {
     "data": {
      "text/plain": [
       "[1, 0, 0]"
      ]
     },
     "execution_count": 55,
     "metadata": {},
     "output_type": "execute_result"
    }
   ],
   "source": [
    "r = [0] * 3\n",
    "r[0] = 1\n",
    "r"
   ]
  },
  {
   "cell_type": "code",
   "execution_count": 53,
   "id": "82f5a356",
   "metadata": {},
   "outputs": [
    {
     "data": {
      "text/plain": [
       "[[0, 0, 0], [0, 0, 0], [0, 0, 0]]"
      ]
     },
     "execution_count": 53,
     "metadata": {},
     "output_type": "execute_result"
    }
   ],
   "source": [
    "f = [r] * 3\n",
    "f"
   ]
  },
  {
   "cell_type": "code",
   "execution_count": 54,
   "id": "644c0356",
   "metadata": {},
   "outputs": [
    {
     "data": {
      "text/plain": [
       "[[1, 0, 0], [1, 0, 0], [1, 0, 0]]"
      ]
     },
     "execution_count": 54,
     "metadata": {},
     "output_type": "execute_result"
    }
   ],
   "source": [
    "f[0][0] = 1\n",
    "f"
   ]
  },
  {
   "cell_type": "code",
   "execution_count": 57,
   "id": "7bf32b24",
   "metadata": {},
   "outputs": [
    {
     "name": "stdout",
     "output_type": "stream",
     "text": [
      "[[0, 0, 0], [0, 0, 0], [0, 0, 0]]\n",
      "[[1, 0, 0], [0, 0, 0], [0, 0, 0]]\n"
     ]
    }
   ],
   "source": [
    "f = [[0]*3 for i in range(3)]\n",
    "print(f)\n",
    "f[0][0] = 1\n",
    "print(f)"
   ]
  },
  {
   "cell_type": "code",
   "execution_count": 58,
   "id": "80bd6219",
   "metadata": {},
   "outputs": [
    {
     "data": {
      "text/plain": [
       "[[1, 0, 0], [0, 0, 0], [0, 0, 0]]"
      ]
     },
     "execution_count": 58,
     "metadata": {},
     "output_type": "execute_result"
    }
   ],
   "source": [
    "f"
   ]
  },
  {
   "cell_type": "code",
   "execution_count": 59,
   "id": "71a9b423",
   "metadata": {},
   "outputs": [
    {
     "data": {
      "text/plain": [
       "[1, 0, 0]"
      ]
     },
     "execution_count": 59,
     "metadata": {},
     "output_type": "execute_result"
    }
   ],
   "source": [
    "f[0]"
   ]
  },
  {
   "cell_type": "code",
   "execution_count": 60,
   "id": "5a3cd6a3",
   "metadata": {},
   "outputs": [
    {
     "data": {
      "text/plain": [
       "1"
      ]
     },
     "execution_count": 60,
     "metadata": {},
     "output_type": "execute_result"
    }
   ],
   "source": [
    "f[0][0]"
   ]
  },
  {
   "cell_type": "code",
   "execution_count": 70,
   "id": "9322aeee",
   "metadata": {},
   "outputs": [
    {
     "name": "stdout",
     "output_type": "stream",
     "text": [
      "5\n",
      "6\n"
     ]
    }
   ],
   "source": [
    "def fun():\n",
    "    a = 5\n",
    "    b = 6\n",
    "    return a , b\n",
    "\n",
    "c, d = fun()\n",
    "print(c)\n",
    "print(d)"
   ]
  },
  {
   "cell_type": "code",
   "execution_count": null,
   "id": "92cc6a5d",
   "metadata": {},
   "outputs": [],
   "source": []
  }
 ],
 "metadata": {
  "kernelspec": {
   "display_name": "Python 3",
   "language": "python",
   "name": "python3"
  },
  "language_info": {
   "codemirror_mode": {
    "name": "ipython",
    "version": 3
   },
   "file_extension": ".py",
   "mimetype": "text/x-python",
   "name": "python",
   "nbconvert_exporter": "python",
   "pygments_lexer": "ipython3",
   "version": "3.8.8"
  }
 },
 "nbformat": 4,
 "nbformat_minor": 5
}
